{
 "cells": [
  {
   "cell_type": "markdown",
   "id": "0f07a433",
   "metadata": {},
   "source": [
    "### Wedge Task 3\n",
    "\n",
    "This Notebook creates the database, creates the tables, and fills the tables witht the summary tables generated from GBQ."
   ]
  },
  {
   "cell_type": "code",
   "execution_count": 1,
   "id": "ac86c200",
   "metadata": {},
   "outputs": [],
   "source": [
    "import sqlite3\n",
    "import csv\n",
    "\n",
    "#Here are the placeholders for all the files exported from Google Big Query.\n",
    "inputfile1 = \"3.1.csv\"\n",
    "inputfile2 = \"3.2.csv\"\n",
    "inputfile3 = \"3.3.csv\""
   ]
  },
  {
   "cell_type": "code",
   "execution_count": 2,
   "id": "14c0d9af",
   "metadata": {},
   "outputs": [],
   "source": [
    "#Create/ Open my database.\n",
    "db = sqlite3.connect(\"Lettuce_Summary.db\")"
   ]
  },
  {
   "cell_type": "code",
   "execution_count": 4,
   "id": "e7e23741",
   "metadata": {},
   "outputs": [],
   "source": [
    "#db.close()"
   ]
  },
  {
   "cell_type": "code",
   "execution_count": null,
   "id": "c103d7dc",
   "metadata": {},
   "outputs": [],
   "source": [
    "#Build Table 1: Sales by date by hour"
   ]
  },
  {
   "cell_type": "code",
   "execution_count": 3,
   "id": "5c286103",
   "metadata": {},
   "outputs": [
    {
     "data": {
      "text/plain": [
       "<sqlite3.Cursor at 0x1aaeaed7dc0>"
      ]
     },
     "execution_count": 3,
     "metadata": {},
     "output_type": "execute_result"
    }
   ],
   "source": [
    "cur = db.cursor()\n",
    "cur.execute('''DROP TABLE IF EXISTS SalesByDateByHour ''')\n",
    "cur.execute('''CREATE TABLE SalesByDateByHour (\n",
    "    Dates DATE, \n",
    "    Hour REAL, \n",
    "    Spend REAL,\n",
    "    Transact INT,\n",
    "    Items INT)''')"
   ]
  },
  {
   "cell_type": "markdown",
   "id": "5b2d3299",
   "metadata": {},
   "source": [
    "With the table create, now we want to import our Sales data"
   ]
  },
  {
   "cell_type": "code",
   "execution_count": 6,
   "id": "325b5113",
   "metadata": {},
   "outputs": [],
   "source": [
    "#file1 = open('file1.csv')\n",
    "#contents = csv.reader(file1)\n",
    "#insert_records = \"INSERT INTO SalesByDateByHour (Dates, Hour, Spend, Transact, Item) VALUES (?, ?, ?, ?, ?)\"\n",
    "#cur.executemany(insert_records, contents)\n",
    "#db.commit()\n",
    "with open(inputfile1, 'r', encoding=\"utf8\") as ifile:\n",
    "    next(ifile) #skip header\n",
    "    for idx, line in enumerate(ifile.readlines()):\n",
    "        line = line.strip().split(\",\")\n",
    "        cur.execute('''\n",
    "            INSERT INTO SalesByDateByHour (Dates, Hour, Spend, Transact, Items) VALUES (?, ?, ?, ?, ?)''', line)\n",
    "db.commit()"
   ]
  },
  {
   "cell_type": "code",
   "execution_count": null,
   "id": "88c918e7",
   "metadata": {},
   "outputs": [],
   "source": [
    "#Build Table 2: Sales by Owner by year by month"
   ]
  },
  {
   "cell_type": "code",
   "execution_count": 7,
   "id": "320d0e9e",
   "metadata": {},
   "outputs": [
    {
     "data": {
      "text/plain": [
       "<sqlite3.Cursor at 0x1aaeaf94b90>"
      ]
     },
     "execution_count": 7,
     "metadata": {},
     "output_type": "execute_result"
    }
   ],
   "source": [
    "cur = db.cursor()\n",
    "cur.execute('''DROP TABLE IF EXISTS SalesOwner_YearbyMonth''')\n",
    "cur.execute('''CREATE TABLE SalesOwner_YearbyMonth (\n",
    "    CardNum INT, \n",
    "    Year INT, \n",
    "    Month REAL,\n",
    "    Spend REAL,\n",
    "    Transact INT,\n",
    "    Items INT)''')"
   ]
  },
  {
   "cell_type": "code",
   "execution_count": 9,
   "id": "76f8db3c",
   "metadata": {},
   "outputs": [],
   "source": [
    "\n",
    "with open(inputfile2, 'r', encoding=\"utf8\") as ifile:\n",
    "    next(ifile) #skip header\n",
    "    for idx, line in enumerate(ifile.readlines()):\n",
    "        line = line.strip().split(\",\")\n",
    "        cur.execute('''\n",
    "            INSERT INTO SalesOwner_YearbyMonth (CardNum, Year, Month, Spend, Transact, Items) VALUES (?, ?, ?, ?, ?, ?)''', line)\n",
    "db.commit()"
   ]
  },
  {
   "cell_type": "code",
   "execution_count": null,
   "id": "6b529d3a",
   "metadata": {},
   "outputs": [],
   "source": []
  },
  {
   "cell_type": "code",
   "execution_count": 10,
   "id": "354db1f2",
   "metadata": {},
   "outputs": [
    {
     "data": {
      "text/plain": [
       "<sqlite3.Cursor at 0x1aaeafa3260>"
      ]
     },
     "execution_count": 10,
     "metadata": {},
     "output_type": "execute_result"
    }
   ],
   "source": [
    "#Build Table 3: Sales by product description by year by month\n",
    "\n",
    "cur = db.cursor()\n",
    "cur.execute('''DROP TABLE IF EXISTS SalesProduct_YearbyMonth''')\n",
    "cur.execute('''CREATE TABLE SalesProduct_YearbyMonth (\n",
    "    Description TEXT, \n",
    "    Year INT, \n",
    "    Month REAL,\n",
    "    UPC TEXT,\n",
    "    Deptno TEXT,\n",
    "    DeptName TEXT,\n",
    "    Spend REAL,\n",
    "    Transact INT,\n",
    "    Items INT)''')"
   ]
  },
  {
   "cell_type": "code",
   "execution_count": 14,
   "id": "dff00918",
   "metadata": {},
   "outputs": [],
   "source": [
    "with open(inputfile3, 'r', encoding=\"utf8\") as ifile:\n",
    "    next(ifile) #skip header\n",
    "    for idx, line in enumerate(ifile.readlines()):\n",
    "        line = line.strip().split(\",\")\n",
    "        cur.execute('''\n",
    "            INSERT INTO SalesProduct_YearbyMonth (Description, Year, Month, UPC, Deptno, DeptName, Spend, Transact, Items) VALUES (?, ?, ?, ?, ?, ?, ?, ?, ?)''', line)\n",
    "db.commit()"
   ]
  },
  {
   "cell_type": "code",
   "execution_count": 15,
   "id": "0b0f7ac0",
   "metadata": {},
   "outputs": [],
   "source": [
    "db.close()"
   ]
  },
  {
   "cell_type": "code",
   "execution_count": null,
   "id": "7f867137",
   "metadata": {},
   "outputs": [],
   "source": []
  }
 ],
 "metadata": {
  "kernelspec": {
   "display_name": "Python 3 (ipykernel)",
   "language": "python",
   "name": "python3"
  },
  "language_info": {
   "codemirror_mode": {
    "name": "ipython",
    "version": 3
   },
   "file_extension": ".py",
   "mimetype": "text/x-python",
   "name": "python",
   "nbconvert_exporter": "python",
   "pygments_lexer": "ipython3",
   "version": "3.8.11"
  }
 },
 "nbformat": 4,
 "nbformat_minor": 5
}
